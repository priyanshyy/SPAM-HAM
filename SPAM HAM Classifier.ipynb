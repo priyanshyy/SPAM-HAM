{
 "cells": [
  {
   "cell_type": "code",
   "execution_count": 1,
   "id": "327ba064",
   "metadata": {},
   "outputs": [],
   "source": [
    "import pandas as pd\n",
    "import numpy as np\n",
    "from sklearn.model_selection import train_test_split\n",
    "from sklearn.feature_extraction.text import TfidfVectorizer\n",
    "from sklearn.linear_model import LogisticRegression\n",
    "from sklearn.ensemble import RandomForestClassifier\n",
    "from sklearn.tree import DecisionTreeClassifier\n",
    "from sklearn.ensemble import GradientBoostingClassifier\n",
    "from sklearn.naive_bayes import MultinomialNB\n",
    "from sklearn.svm import SVC\n",
    "from sklearn.metrics import accuracy_score"
   ]
  },
  {
   "cell_type": "code",
   "execution_count": 2,
   "id": "9192e481",
   "metadata": {},
   "outputs": [],
   "source": [
    "df = pd.read_csv('mail_data.csv')"
   ]
  },
  {
   "cell_type": "markdown",
   "id": "1d818afb",
   "metadata": {},
   "source": [
    "### EDA"
   ]
  },
  {
   "cell_type": "code",
   "execution_count": 3,
   "id": "543d5803",
   "metadata": {},
   "outputs": [
    {
     "data": {
      "text/html": [
       "<div>\n",
       "<style scoped>\n",
       "    .dataframe tbody tr th:only-of-type {\n",
       "        vertical-align: middle;\n",
       "    }\n",
       "\n",
       "    .dataframe tbody tr th {\n",
       "        vertical-align: top;\n",
       "    }\n",
       "\n",
       "    .dataframe thead th {\n",
       "        text-align: right;\n",
       "    }\n",
       "</style>\n",
       "<table border=\"1\" class=\"dataframe\">\n",
       "  <thead>\n",
       "    <tr style=\"text-align: right;\">\n",
       "      <th></th>\n",
       "      <th>Category</th>\n",
       "      <th>Message</th>\n",
       "    </tr>\n",
       "  </thead>\n",
       "  <tbody>\n",
       "    <tr>\n",
       "      <th>0</th>\n",
       "      <td>ham</td>\n",
       "      <td>Go until jurong point, crazy.. Available only ...</td>\n",
       "    </tr>\n",
       "    <tr>\n",
       "      <th>1</th>\n",
       "      <td>ham</td>\n",
       "      <td>Ok lar... Joking wif u oni...</td>\n",
       "    </tr>\n",
       "    <tr>\n",
       "      <th>2</th>\n",
       "      <td>spam</td>\n",
       "      <td>Free entry in 2 a wkly comp to win FA Cup fina...</td>\n",
       "    </tr>\n",
       "    <tr>\n",
       "      <th>3</th>\n",
       "      <td>ham</td>\n",
       "      <td>U dun say so early hor... U c already then say...</td>\n",
       "    </tr>\n",
       "    <tr>\n",
       "      <th>4</th>\n",
       "      <td>ham</td>\n",
       "      <td>Nah I don't think he goes to usf, he lives aro...</td>\n",
       "    </tr>\n",
       "  </tbody>\n",
       "</table>\n",
       "</div>"
      ],
      "text/plain": [
       "  Category                                            Message\n",
       "0      ham  Go until jurong point, crazy.. Available only ...\n",
       "1      ham                      Ok lar... Joking wif u oni...\n",
       "2     spam  Free entry in 2 a wkly comp to win FA Cup fina...\n",
       "3      ham  U dun say so early hor... U c already then say...\n",
       "4      ham  Nah I don't think he goes to usf, he lives aro..."
      ]
     },
     "execution_count": 3,
     "metadata": {},
     "output_type": "execute_result"
    }
   ],
   "source": [
    "df.head()"
   ]
  },
  {
   "cell_type": "code",
   "execution_count": 4,
   "id": "b7927909",
   "metadata": {},
   "outputs": [
    {
     "name": "stdout",
     "output_type": "stream",
     "text": [
      "<class 'pandas.core.frame.DataFrame'>\n",
      "RangeIndex: 5572 entries, 0 to 5571\n",
      "Data columns (total 2 columns):\n",
      " #   Column    Non-Null Count  Dtype \n",
      "---  ------    --------------  ----- \n",
      " 0   Category  5572 non-null   object\n",
      " 1   Message   5572 non-null   object\n",
      "dtypes: object(2)\n",
      "memory usage: 87.2+ KB\n"
     ]
    }
   ],
   "source": [
    "df.info()"
   ]
  },
  {
   "cell_type": "code",
   "execution_count": 5,
   "id": "7c76197c",
   "metadata": {},
   "outputs": [
    {
     "data": {
      "text/plain": [
       "(5572, 2)"
      ]
     },
     "execution_count": 5,
     "metadata": {},
     "output_type": "execute_result"
    }
   ],
   "source": [
    "df.shape"
   ]
  },
  {
   "cell_type": "code",
   "execution_count": 6,
   "id": "1c6602da",
   "metadata": {},
   "outputs": [
    {
     "data": {
      "text/plain": [
       "Category       2\n",
       "Message     5157\n",
       "dtype: int64"
      ]
     },
     "execution_count": 6,
     "metadata": {},
     "output_type": "execute_result"
    }
   ],
   "source": [
    "df.nunique()"
   ]
  },
  {
   "cell_type": "code",
   "execution_count": 7,
   "id": "f1485ce0",
   "metadata": {},
   "outputs": [
    {
     "data": {
      "text/plain": [
       "array(['ham', 'spam'], dtype=object)"
      ]
     },
     "execution_count": 7,
     "metadata": {},
     "output_type": "execute_result"
    }
   ],
   "source": [
    "df['Category'].unique()"
   ]
  },
  {
   "cell_type": "code",
   "execution_count": 8,
   "id": "d130599b",
   "metadata": {},
   "outputs": [
    {
     "data": {
      "text/plain": [
       "ham     4825\n",
       "spam     747\n",
       "Name: Category, dtype: int64"
      ]
     },
     "execution_count": 8,
     "metadata": {},
     "output_type": "execute_result"
    }
   ],
   "source": [
    "df['Category'].value_counts()"
   ]
  },
  {
   "cell_type": "markdown",
   "id": "ea01465f",
   "metadata": {},
   "source": [
    "### Preprocessing"
   ]
  },
  {
   "cell_type": "code",
   "execution_count": 9,
   "id": "7e43ea52",
   "metadata": {},
   "outputs": [
    {
     "data": {
      "text/plain": [
       "Category    0\n",
       "Message     0\n",
       "dtype: int64"
      ]
     },
     "execution_count": 9,
     "metadata": {},
     "output_type": "execute_result"
    }
   ],
   "source": [
    "df.isna().sum()"
   ]
  },
  {
   "cell_type": "code",
   "execution_count": 10,
   "id": "88bc63dd",
   "metadata": {},
   "outputs": [],
   "source": [
    "df['Category'] = df['Category'].apply(lambda x: 0 if x == 'spam' else 1)"
   ]
  },
  {
   "cell_type": "code",
   "execution_count": 11,
   "id": "68fe08c6",
   "metadata": {},
   "outputs": [
    {
     "data": {
      "text/plain": [
       "1    4825\n",
       "0     747\n",
       "Name: Category, dtype: int64"
      ]
     },
     "execution_count": 11,
     "metadata": {},
     "output_type": "execute_result"
    }
   ],
   "source": [
    "df.Category.value_counts()"
   ]
  },
  {
   "cell_type": "markdown",
   "id": "8d8f90d5",
   "metadata": {},
   "source": [
    "### Splitting"
   ]
  },
  {
   "cell_type": "code",
   "execution_count": 12,
   "id": "a0e2135f",
   "metadata": {},
   "outputs": [],
   "source": [
    "x = df['Message']\n",
    "y = df['Category']"
   ]
  },
  {
   "cell_type": "code",
   "execution_count": 13,
   "id": "96c9e46b",
   "metadata": {},
   "outputs": [
    {
     "data": {
      "text/plain": [
       "0    Go until jurong point, crazy.. Available only ...\n",
       "1                        Ok lar... Joking wif u oni...\n",
       "2    Free entry in 2 a wkly comp to win FA Cup fina...\n",
       "3    U dun say so early hor... U c already then say...\n",
       "4    Nah I don't think he goes to usf, he lives aro...\n",
       "Name: Message, dtype: object"
      ]
     },
     "execution_count": 13,
     "metadata": {},
     "output_type": "execute_result"
    }
   ],
   "source": [
    "x.head()"
   ]
  },
  {
   "cell_type": "code",
   "execution_count": 14,
   "id": "e8fbf4a5",
   "metadata": {},
   "outputs": [
    {
     "data": {
      "text/plain": [
       "0    1\n",
       "1    1\n",
       "2    0\n",
       "3    1\n",
       "4    1\n",
       "Name: Category, dtype: int64"
      ]
     },
     "execution_count": 14,
     "metadata": {},
     "output_type": "execute_result"
    }
   ],
   "source": [
    "y.head()"
   ]
  },
  {
   "cell_type": "code",
   "execution_count": 15,
   "id": "61eef45d",
   "metadata": {},
   "outputs": [],
   "source": [
    "x_train,x_test,y_train,y_test = train_test_split(x,y,test_size=0.2,random_state=42)"
   ]
  },
  {
   "cell_type": "code",
   "execution_count": 16,
   "id": "04def59e",
   "metadata": {},
   "outputs": [
    {
     "name": "stdout",
     "output_type": "stream",
     "text": [
      "(4457,)\n",
      "(1115,)\n"
     ]
    }
   ],
   "source": [
    "print(x_train.shape)\n",
    "print(x_test.shape)"
   ]
  },
  {
   "cell_type": "markdown",
   "id": "afe270a6",
   "metadata": {},
   "source": [
    "### Feature extraction"
   ]
  },
  {
   "cell_type": "code",
   "execution_count": 17,
   "id": "594ade39",
   "metadata": {},
   "outputs": [],
   "source": [
    "fe = TfidfVectorizer(min_df=1, stop_words='english',lowercase='True')\n",
    "\n",
    "x_train_features = fe.fit_transform(x_train)\n",
    "x_test_features = fe.transform(x_test)\n",
    "\n",
    "y_train = y_train.astype('int')\n",
    "y_test = y_test.astype('int')"
   ]
  },
  {
   "cell_type": "code",
   "execution_count": 18,
   "id": "4a4377ae",
   "metadata": {},
   "outputs": [
    {
     "name": "stdout",
     "output_type": "stream",
     "text": [
      "  (0, 5818)\t0.22682143517864364\n",
      "  (0, 2497)\t0.2442158912653505\n",
      "  (0, 694)\t0.3171299579602537\n",
      "  (0, 6264)\t0.1898892037332199\n",
      "  (0, 5800)\t0.17558937755823417\n",
      "  (0, 3262)\t0.33791755486732394\n",
      "  (0, 2049)\t0.3034375179183143\n",
      "  (0, 7300)\t0.24288153842988894\n",
      "  (0, 2724)\t0.3544175987866074\n",
      "  (0, 354)\t0.3544175987866074\n",
      "  (0, 7162)\t0.2550284465664535\n",
      "  (0, 258)\t0.2379428657041507\n",
      "  (0, 7222)\t0.2173884735352799\n",
      "  (0, 5512)\t0.1898892037332199\n",
      "  (1, 2555)\t0.3840709491751004\n",
      "  (1, 3804)\t0.1902902346515268\n",
      "  (1, 3932)\t0.24325511357721427\n",
      "  (1, 4509)\t0.4028245991060671\n",
      "  (1, 2440)\t0.33870544648398715\n",
      "  (1, 3333)\t0.20665394084233096\n",
      "  (1, 5650)\t0.360444144470318\n",
      "  (1, 2335)\t0.2162321275166079\n",
      "  (1, 6738)\t0.28986069568918\n",
      "  (1, 6109)\t0.3239762634465801\n",
      "  (1, 3267)\t0.2678713077029217\n",
      "  :\t:\n",
      "  (4452, 2438)\t0.4574160733416501\n",
      "  (4452, 7280)\t0.3968991650168732\n",
      "  (4452, 3978)\t0.4574160733416501\n",
      "  (4452, 3290)\t0.26370969643076225\n",
      "  (4452, 3084)\t0.22948428918295163\n",
      "  (4452, 2236)\t0.2676662072392096\n",
      "  (4453, 3874)\t0.6064947019588056\n",
      "  (4453, 4004)\t0.5244851817485773\n",
      "  (4453, 6108)\t0.5975612693457145\n",
      "  (4454, 6113)\t0.4465347909835087\n",
      "  (4454, 6114)\t0.4465347909835087\n",
      "  (4454, 5149)\t0.43410473161397095\n",
      "  (4454, 5409)\t0.4079234999314281\n",
      "  (4454, 3249)\t0.3182708584577292\n",
      "  (4454, 2893)\t0.38087861810984514\n",
      "  (4455, 5815)\t0.5332274226200294\n",
      "  (4455, 3691)\t0.5541750775894743\n",
      "  (4455, 4660)\t0.4924788339394118\n",
      "  (4455, 6686)\t0.40745931976870786\n",
      "  (4456, 4518)\t0.5364209818026567\n",
      "  (4456, 6078)\t0.46545159250664164\n",
      "  (4456, 6467)\t0.48168628392630153\n",
      "  (4456, 5719)\t0.3276287995831882\n",
      "  (4456, 2236)\t0.31389751705425334\n",
      "  (4456, 3720)\t0.24023610815826446\n"
     ]
    }
   ],
   "source": [
    "print(x_train_features)"
   ]
  },
  {
   "cell_type": "markdown",
   "id": "353b17ea",
   "metadata": {},
   "source": [
    "### Model"
   ]
  },
  {
   "cell_type": "code",
   "execution_count": 19,
   "id": "4d1e4500",
   "metadata": {},
   "outputs": [],
   "source": [
    "model = LogisticRegression()"
   ]
  },
  {
   "cell_type": "code",
   "execution_count": 20,
   "id": "afa5e161",
   "metadata": {},
   "outputs": [
    {
     "data": {
      "text/plain": [
       "LogisticRegression()"
      ]
     },
     "execution_count": 20,
     "metadata": {},
     "output_type": "execute_result"
    }
   ],
   "source": [
    "model.fit(x_train_features,y_train)"
   ]
  },
  {
   "cell_type": "code",
   "execution_count": 21,
   "id": "c5f7d791",
   "metadata": {},
   "outputs": [
    {
     "data": {
      "text/plain": [
       "'model_rf = RandomForestClassifier()\\nmodel_rf.fit(x_train_features,y_train)'"
      ]
     },
     "execution_count": 21,
     "metadata": {},
     "output_type": "execute_result"
    }
   ],
   "source": [
    "\"\"\"model_rf = RandomForestClassifier()\n",
    "model_rf.fit(x_train_features,y_train)\"\"\""
   ]
  },
  {
   "cell_type": "code",
   "execution_count": 22,
   "id": "fd99e117",
   "metadata": {},
   "outputs": [
    {
     "data": {
      "text/plain": [
       "'model_dt = DecisionTreeClassifier()\\nmodel_dt.fit(x_train_features,y_train)'"
      ]
     },
     "execution_count": 22,
     "metadata": {},
     "output_type": "execute_result"
    }
   ],
   "source": [
    "\"\"\"model_dt = DecisionTreeClassifier()\n",
    "model_dt.fit(x_train_features,y_train)\"\"\""
   ]
  },
  {
   "cell_type": "code",
   "execution_count": 23,
   "id": "64fab711",
   "metadata": {},
   "outputs": [
    {
     "data": {
      "text/plain": [
       "'model_nb = MultinomialNB()\\nmodel_nb.fit(x_train_features,y_train)'"
      ]
     },
     "execution_count": 23,
     "metadata": {},
     "output_type": "execute_result"
    }
   ],
   "source": [
    "\"\"\"model_nb = MultinomialNB()\n",
    "model_nb.fit(x_train_features,y_train)\"\"\""
   ]
  },
  {
   "cell_type": "code",
   "execution_count": 24,
   "id": "e250f8f8",
   "metadata": {},
   "outputs": [
    {
     "data": {
      "text/plain": [
       "'model_gb = GradientBoostingClassifier()\\nmodel_gb.fit(x_train_features,y_train)'"
      ]
     },
     "execution_count": 24,
     "metadata": {},
     "output_type": "execute_result"
    }
   ],
   "source": [
    "'''model_gb = GradientBoostingClassifier()\n",
    "model_gb.fit(x_train_features,y_train)'''"
   ]
  },
  {
   "cell_type": "code",
   "execution_count": 25,
   "id": "d33b3b99",
   "metadata": {},
   "outputs": [
    {
     "data": {
      "text/plain": [
       "'model_svc = SVC()\\nmodel_svc.fit(x_train_features,y_train)'"
      ]
     },
     "execution_count": 25,
     "metadata": {},
     "output_type": "execute_result"
    }
   ],
   "source": [
    "'''model_svc = SVC()\n",
    "model_svc.fit(x_train_features,y_train)'''"
   ]
  },
  {
   "cell_type": "markdown",
   "id": "edd38d68",
   "metadata": {},
   "source": [
    "### Prediction and Accuracy"
   ]
  },
  {
   "cell_type": "code",
   "execution_count": 26,
   "id": "309d4012",
   "metadata": {},
   "outputs": [
    {
     "name": "stdout",
     "output_type": "stream",
     "text": [
      "0.9661207089970832\n",
      "0.967713004484305\n"
     ]
    }
   ],
   "source": [
    "prediction = model.predict(x_train_features)\n",
    "accuracy = accuracy_score(y_train,prediction)\n",
    "print(accuracy)\n",
    "prediction_test = model.predict(x_test_features)\n",
    "accuracy_test = accuracy_score(y_test,prediction_test)\n",
    "print(accuracy_test)\n",
    "\n",
    "#BEST MODEL"
   ]
  },
  {
   "cell_type": "code",
   "execution_count": 27,
   "id": "7d591b98",
   "metadata": {},
   "outputs": [
    {
     "data": {
      "text/plain": [
       "'prediction = model_rf.predict(x_train_features)\\naccuracy = accuracy_score(y_train,prediction)\\nprint(accuracy)\\nprediction_test = model_rf.predict(x_test_features)\\naccuracy_test = accuracy_score(y_test,prediction_test)\\nprint(accuracy_test)'"
      ]
     },
     "execution_count": 27,
     "metadata": {},
     "output_type": "execute_result"
    }
   ],
   "source": [
    "'''prediction = model_rf.predict(x_train_features)\n",
    "accuracy = accuracy_score(y_train,prediction)\n",
    "print(accuracy)\n",
    "prediction_test = model_rf.predict(x_test_features)\n",
    "accuracy_test = accuracy_score(y_test,prediction_test)\n",
    "print(accuracy_test)'''"
   ]
  },
  {
   "cell_type": "code",
   "execution_count": 28,
   "id": "d0aacf36",
   "metadata": {},
   "outputs": [
    {
     "data": {
      "text/plain": [
       "'prediction = model_dt.predict(x_train_features)\\naccuracy = accuracy_score(y_train,prediction)\\nprint(accuracy)\\nprediction_test = model_dt.predict(x_test_features)\\naccuracy_test = accuracy_score(y_test,prediction_test)\\nprint(accuracy_test)'"
      ]
     },
     "execution_count": 28,
     "metadata": {},
     "output_type": "execute_result"
    }
   ],
   "source": [
    "'''prediction = model_dt.predict(x_train_features)\n",
    "accuracy = accuracy_score(y_train,prediction)\n",
    "print(accuracy)\n",
    "prediction_test = model_dt.predict(x_test_features)\n",
    "accuracy_test = accuracy_score(y_test,prediction_test)\n",
    "print(accuracy_test)'''"
   ]
  },
  {
   "cell_type": "code",
   "execution_count": 29,
   "id": "1ce26c0e",
   "metadata": {},
   "outputs": [
    {
     "data": {
      "text/plain": [
       "'prediction = model_nb.predict(x_train_features)\\naccuracy = accuracy_score(y_train,prediction)\\nprint(accuracy)\\nprediction_test = model_nb.predict(x_test_features)\\naccuracy_test = accuracy_score(y_test,prediction_test)\\nprint(accuracy_test)'"
      ]
     },
     "execution_count": 29,
     "metadata": {},
     "output_type": "execute_result"
    }
   ],
   "source": [
    "'''prediction = model_nb.predict(x_train_features)\n",
    "accuracy = accuracy_score(y_train,prediction)\n",
    "print(accuracy)\n",
    "prediction_test = model_nb.predict(x_test_features)\n",
    "accuracy_test = accuracy_score(y_test,prediction_test)\n",
    "print(accuracy_test)'''"
   ]
  },
  {
   "cell_type": "code",
   "execution_count": 30,
   "id": "611b5680",
   "metadata": {},
   "outputs": [
    {
     "data": {
      "text/plain": [
       "'prediction = model_svc.predict(x_train_features)\\naccuracy = accuracy_score(y_train,prediction)\\nprint(accuracy)\\nprediction_test = model_svc.predict(x_test_features)\\naccuracy_test = accuracy_score(y_test,prediction_test)\\nprint(accuracy_test)'"
      ]
     },
     "execution_count": 30,
     "metadata": {},
     "output_type": "execute_result"
    }
   ],
   "source": [
    "'''prediction = model_svc.predict(x_train_features)\n",
    "accuracy = accuracy_score(y_train,prediction)\n",
    "print(accuracy)\n",
    "prediction_test = model_svc.predict(x_test_features)\n",
    "accuracy_test = accuracy_score(y_test,prediction_test)\n",
    "print(accuracy_test)'''"
   ]
  },
  {
   "cell_type": "code",
   "execution_count": 31,
   "id": "92b8b768",
   "metadata": {},
   "outputs": [
    {
     "data": {
      "text/plain": [
       "'prediction = model_gb.predict(x_train_features)\\naccuracy = accuracy_score(y_train,prediction)\\nprint(accuracy)\\nprediction_test = model_gb.predict(x_test_features)\\naccuracy_test = accuracy_score(y_test,prediction_test)\\nprint(accuracy_test)'"
      ]
     },
     "execution_count": 31,
     "metadata": {},
     "output_type": "execute_result"
    }
   ],
   "source": [
    "'''prediction = model_gb.predict(x_train_features)\n",
    "accuracy = accuracy_score(y_train,prediction)\n",
    "print(accuracy)\n",
    "prediction_test = model_gb.predict(x_test_features)\n",
    "accuracy_test = accuracy_score(y_test,prediction_test)\n",
    "print(accuracy_test)'''"
   ]
  },
  {
   "cell_type": "code",
   "execution_count": 32,
   "id": "4efeeaa4",
   "metadata": {},
   "outputs": [],
   "source": [
    "input_mail = [\"Hello,Are you ready to demonstrate your SQL mastery? Join the electrifying DataRush Coding Contest hosted by Newton School, where top data scientists and SQL aficionados clash!\"]\n",
    "\n",
    "input_data_features = fe.transform(input_mail)\n",
    "\n",
    "pred = model.predict(input_data_features)"
   ]
  },
  {
   "cell_type": "code",
   "execution_count": 33,
   "id": "7140554c",
   "metadata": {},
   "outputs": [
    {
     "name": "stdout",
     "output_type": "stream",
     "text": [
      "Ham Mail\n"
     ]
    }
   ],
   "source": [
    "if pred == 1:\n",
    "    print('Ham Mail')\n",
    "else:\n",
    "    print('Spam Mail')"
   ]
  }
 ],
 "metadata": {
  "kernelspec": {
   "display_name": "Python 3 (ipykernel)",
   "language": "python",
   "name": "python3"
  },
  "language_info": {
   "codemirror_mode": {
    "name": "ipython",
    "version": 3
   },
   "file_extension": ".py",
   "mimetype": "text/x-python",
   "name": "python",
   "nbconvert_exporter": "python",
   "pygments_lexer": "ipython3",
   "version": "3.9.13"
  }
 },
 "nbformat": 4,
 "nbformat_minor": 5
}
